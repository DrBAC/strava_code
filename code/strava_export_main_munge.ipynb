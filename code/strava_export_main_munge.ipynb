{
 "cells": [
  {
   "cell_type": "markdown",
   "id": "807b99ef",
   "metadata": {},
   "source": [
    "<!-- Fancy Notebook Header with Strava styling -->\n",
    "\n",
    "<div style=\"background: linear-gradient(to right, #fc4c02, #ff814c); padding: 20px; border-radius: 10px; display: flex; align-items: center;\">\n",
    "\n",
    "  <img src=\"../assets/strava_logo.png\" alt=\"Strava Logo\" style=\"width: 80px; margin-right: 20px;\">\n",
    "\n",
    "  <div style=\"color: white;\">\n",
    "    <h1 style=\"margin: 0;\">Strava Data Munge & Export</h1>\n",
    "    <h3 style=\"margin: 0;\">Cycling 🚴‍♂️ | Running 🏃‍♀️ | Walking 🚶‍♂️</h3>\n",
    "    <p style=\"margin: 5px 0 0 0;\"><em>Data sourced from my personal Strava activity logs</em></p>\n",
    "  </div>\n",
    "\n",
    "</div>\n",
    "\n",
    "---\n"
   ]
  },
  {
   "cell_type": "markdown",
   "id": "89cdf5ed",
   "metadata": {},
   "source": [
    "- Point at directory of new export\n",
    "- Pull in 'activities'\n",
    "- Build a top-level activity dataframe\n",
    "- For run, walk and ride create 3 lists of files\n",
    "- For each activity: \n",
    "    - create a dataframe of the time, heartrate, speed, lat/long and output\n"
   ]
  },
  {
   "cell_type": "markdown",
   "id": "b9c0fd25",
   "metadata": {},
   "source": [
    "### Using the csv dataset exportable from Strava\n",
    "   - Explore the datasource:\n",
    "      - contains key 'activities' file; a high level overview of all activities I've tracked in Strava\n",
    "      - subfiles (see below) listing detailed tracking information for each activity\n",
    "   - Subfile datasets contain tracking in 1 of 3 formats:\n",
    "      - .gpx: basic gps-tracking file, with no bio-stat data\n",
    "      - .tcx.gz: blah blah\n",
    "      - .fit.gz: blah\n",
    "      - The most interesting and relevant file-type is XXX; this corresponds with when I started wearing an Apple Watch to track my training, and as such has the most valuable information"
   ]
  },
  {
   "cell_type": "markdown",
   "id": "1ee6298c",
   "metadata": {},
   "source": [
    "# Preamble & Imports"
   ]
  },
  {
   "cell_type": "code",
   "execution_count": null,
   "id": "64853ae8",
   "metadata": {},
   "outputs": [],
   "source": [
    "import os\n",
    "import pandas as pd\n",
    "import gpxpy\n",
    "import gzip\n",
    "\n",
    "from fitparse import FitFile"
   ]
  },
  {
   "cell_type": "markdown",
   "id": "6c12e00c",
   "metadata": {},
   "source": [
    "Locate main source file as downloaded from Strava"
   ]
  },
  {
   "cell_type": "code",
   "execution_count": 2,
   "id": "c280e3d9",
   "metadata": {},
   "outputs": [],
   "source": [
    "main_dir = '../strava_data_dumps/STRAVA+export_8029714'"
   ]
  },
  {
   "cell_type": "markdown",
   "id": "5080d34f",
   "metadata": {},
   "source": [
    "## Pull in the Main \"Activities.csv\" File & Explore"
   ]
  },
  {
   "cell_type": "code",
   "execution_count": null,
   "id": "85ed67fc",
   "metadata": {},
   "outputs": [],
   "source": [
    "# pull in file\n",
    "head_df = pd.read_csv(f'{main_dir}/activities.csv')\n",
    "\n",
    "# convert date times\n",
    "head_df['Activity Date'] = pd.to_datetime(head_df['Activity Date'], format='%b %d, %Y, %I:%M:%S %p')\n",
    "\n",
    "# some standard formatting I like to do to column names\n",
    "head_df.columns = head_df.columns.str.upper().str.replace(' ', '_')\n",
    "head_df.dropna(thresh=1000, axis=1, inplace=True)\n",
    "\n",
    "head_df['FILE_SUFFIX'] = head_df['FILENAME'].str[-6:].str.replace('\\d.', '', regex=True)\n"
   ]
  },
  {
   "cell_type": "code",
   "execution_count": null,
   "id": "567aadd3",
   "metadata": {},
   "outputs": [],
   "source": []
  },
  {
   "cell_type": "code",
   "execution_count": null,
   "id": "d57b1d3f",
   "metadata": {},
   "outputs": [],
   "source": [
    "head_df_25 = head_df.loc[head_df['ACTIVITY_DATE'] > '2022-01-01']"
   ]
  },
  {
   "cell_type": "code",
   "execution_count": null,
   "id": "387000b2",
   "metadata": {},
   "outputs": [],
   "source": [
    "head_df = head_df[['ACTIVITY_ID', 'FILENAME','FILE_SUFFIX', 'ACTIVITY_DATE', 'ACTIVITY_NAME', 'ACTIVITY_TYPE', \n",
    "         'CALORIES', 'AVERAGE_HEART_RATE', 'MAX_HEART_RATE', 'ELAPSED_TIME.1', 'MOVING_TIME', 'DISTANCE.1', 'MAX_SPEED', 'AVERAGE_SPEED', 'AVERAGE_ELAPSED_SPEED',\n",
    "        'ELEVATION_GAIN', 'ELEVATION_LOSS', 'ELEVATION_LOW', 'ELEVATION_HIGH', 'MAX_GRADE', 'AVERAGE_GRADE']]"
   ]
  },
  {
   "cell_type": "code",
   "execution_count": null,
   "id": "b9bbbf21",
   "metadata": {},
   "outputs": [],
   "source": [
    "head_df = head_df.loc[head_df['ACTIVITY_TYPE'].isin(['Ride','Walk','Run'])].copy()\n",
    "head_df.groupby(['FILE_SUFFIX','ACTIVITY_TYPE'])['ACTIVITY_ID'].nunique()"
   ]
  },
  {
   "cell_type": "code",
   "execution_count": null,
   "id": "29403c7d",
   "metadata": {},
   "outputs": [],
   "source": [
    "for n,g in head_df.groupby(['FILE_SUFFIX','ACTIVITY_TYPE']):\n",
    "    print(n[0], '--', n[1])\n",
    "    print(g['FILENAME'])"
   ]
  },
  {
   "cell_type": "code",
   "execution_count": null,
   "id": "723b7e51",
   "metadata": {},
   "outputs": [],
   "source": [
    "def semicircles_to_degrees(semicircles):\n",
    "    \n",
    "    \"\"\"\n",
    "    Converts lat/long from the fit format of semicircle --> normal lat/longs\n",
    "    \"\"\"\n",
    "\n",
    "    return semicircles * (180 / 2**31)"
   ]
  },
  {
   "cell_type": "code",
   "execution_count": null,
   "id": "a4c8f20f",
   "metadata": {},
   "outputs": [],
   "source": [
    "# Walk through directories and subdirectories\n",
    "\n",
    "gpx_files = []\n",
    "fit_files = []\n",
    "#tcx_files = []\n",
    "\n",
    "for root, dirs, files in os.walk(f'{main_dir}/activities'):\n",
    "\n",
    "    for file in files:\n",
    "\n",
    "        if file.endswith('.fit.gz'):\n",
    "            file_path = os.path.join(root, file)\n",
    "            print(f'fit file! {file_path}')\n",
    "            all_records = []\n",
    "            with gzip.open(file_path, 'rb') as f:\n",
    "                fitfile = FitFile(f)\n",
    "                for record in fitfile.get_messages('record'):\n",
    "                    data = {d.name: d.value for d in record}\n",
    "                    data['source_file'] = file  # Optional: track which file it came from\n",
    "                    all_records.append(data)\n",
    "            # Convert to DataFrame\n",
    "            df = pd.DataFrame(all_records)\n",
    "            try:\n",
    "                df['LAT'] = df['position_lat'].apply(semicircles_to_degrees)\n",
    "                df['LONG'] = df['position_long'].apply(semicircles_to_degrees)\n",
    "            except:\n",
    "                pass\n",
    "            fit_files.append(df)\n",
    "\n",
    "        elif file.endswith('.gpx'):\n",
    "            file_path = os.path.join(root, file)\n",
    "            print(f'gpx file! {file_path}')\n",
    "            with open(file_path, 'r') as gpx_file:\n",
    "                gpx = gpxpy.parse(gpx_file)\n",
    "                points = []\n",
    "                for track in gpx.tracks:\n",
    "                    for segment in track.segments:\n",
    "                        for point in segment.points:\n",
    "                            points.append({\n",
    "                                'ID':file,\n",
    "                                'latitude': point.latitude,\n",
    "                                'longitude': point.longitude,\n",
    "                                'elevation': point.elevation,\n",
    "                                'time': point.time,\n",
    "                                'speed': point.speed,\n",
    "                                'heart_rate': 'NaN'\n",
    "                            })\n",
    "            df = pd.DataFrame(points)\n",
    "            gpx_files.append(df)\n",
    "\n",
    "        else:\n",
    "            file_path = os.path.join(root, file)\n",
    "            print(f'other file! {file_path}')\n",
    "\n",
    "    "
   ]
  },
  {
   "cell_type": "code",
   "execution_count": null,
   "id": "c5619814",
   "metadata": {},
   "outputs": [],
   "source": [
    "gpx_df = pd.concat(gpx_files, ignore_index=True)\n",
    "\n",
    "gpx_df"
   ]
  },
  {
   "cell_type": "code",
   "execution_count": null,
   "id": "ac4c5455",
   "metadata": {},
   "outputs": [],
   "source": [
    "fit_df = pd.concat(fit_files, ignore_index=True)\n",
    "\n",
    "fit_df"
   ]
  },
  {
   "cell_type": "markdown",
   "id": "769f7796",
   "metadata": {},
   "source": [
    "# GPX Files"
   ]
  },
  {
   "cell_type": "code",
   "execution_count": null,
   "id": "c3635dcd",
   "metadata": {},
   "outputs": [],
   "source": [
    "# Load a GPX file\n",
    "with open(f'{main_dir}/261971610.gpx', 'r') as gpx_file:\n",
    "    gpx = gpxpy.parse(gpx_file)\n",
    "\n",
    "points = []\n",
    "\n",
    "for track in gpx.tracks:\n",
    "    for segment in track.segments:\n",
    "        for point in segment.points:\n",
    "            points.append({\n",
    "                'latitude': point.latitude,\n",
    "                'longitude': point.longitude,\n",
    "                'elevation': point.elevation,\n",
    "                'time': point.time,\n",
    "                'speed': point.speed,\n",
    "                'heart_rate': 'NaN'\n",
    "            })\n",
    "\n",
    "ride_gpx = pd.DataFrame(points)"
   ]
  },
  {
   "cell_type": "markdown",
   "id": "0dd12781",
   "metadata": {},
   "source": [
    "# .fit Files"
   ]
  },
  {
   "cell_type": "code",
   "execution_count": null,
   "id": "7c684609",
   "metadata": {},
   "outputs": [],
   "source": [
    "all_records = []\n",
    "\n",
    "# Walk through directories and subdirectories\n",
    "for root, dirs, files in os.walk(main_dir):\n",
    "    for file in files:\n",
    "        if file.endswith('.fit.gz'):\n",
    "            file_path = os.path.join(root, file)\n",
    "            print(file_path)\n",
    "            with gzip.open(file_path, 'rb') as f:\n",
    "                fitfile = FitFile(f)\n",
    "                for record in fitfile.get_messages('record'):\n",
    "                    data = {d.name: d.value for d in record}\n",
    "                    data['source_file'] = file  # Optional: track which file it came from\n",
    "                    all_records.append(data)\n",
    "\n",
    "# Convert to DataFrame\n",
    "ride_fit = pd.DataFrame(all_records)\n",
    "\n",
    "def semicircles_to_degrees(semicircles):\n",
    "    \n",
    "    \"\"\"\n",
    "    Converts lat/long from the fit format of semicircle --> normal lat/longs\n",
    "    \"\"\"\n",
    "\n",
    "    return semicircles * (180 / 2**31)\n",
    "\n",
    "ride_fit['LAT'] = ride_fit['position_lat'].apply(semicircles_to_degrees)\n",
    "ride_fit['LONG'] = ride_fit['position_long'].apply(semicircles_to_degrees)\n",
    "#ride_fit.to_csv('GPS_route.csv')"
   ]
  }
 ],
 "metadata": {
  "kernelspec": {
   "display_name": "strava_env",
   "language": "python",
   "name": "python3"
  },
  "language_info": {
   "codemirror_mode": {
    "name": "ipython",
    "version": 3
   },
   "file_extension": ".py",
   "mimetype": "text/x-python",
   "name": "python",
   "nbconvert_exporter": "python",
   "pygments_lexer": "ipython3",
   "version": "3.9.6"
  }
 },
 "nbformat": 4,
 "nbformat_minor": 5
}
