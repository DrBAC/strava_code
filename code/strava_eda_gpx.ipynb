{
 "cells": [
  {
   "cell_type": "code",
   "execution_count": 1,
   "id": "b2aebdce",
   "metadata": {},
   "outputs": [
    {
     "name": "stderr",
     "output_type": "stream",
     "text": [
      "/Users/bac/Documents/PYTHON_PROJECTS/Strava_Analysis/strava_env/lib/python3.9/site-packages/urllib3/__init__.py:35: NotOpenSSLWarning: urllib3 v2 only supports OpenSSL 1.1.1+, currently the 'ssl' module is compiled with 'LibreSSL 2.8.3'. See: https://github.com/urllib3/urllib3/issues/3020\n",
      "  warnings.warn(\n"
     ]
    }
   ],
   "source": [
    "import gpxpy\n",
    "import pandas as pd\n",
    "\n",
    "import matplotlib.pyplot as plt\n",
    "\n",
    "import gzip\n",
    "from lxml import etree\n",
    "\n",
    "import folium\n"
   ]
  },
  {
   "cell_type": "code",
   "execution_count": 2,
   "id": "36ec208c",
   "metadata": {},
   "outputs": [],
   "source": [
    "main_dir = 'STRAVA+export_8029714/activities'"
   ]
  },
  {
   "cell_type": "markdown",
   "id": "b4f8caf7",
   "metadata": {},
   "source": [
    "## Generate a dataframe"
   ]
  },
  {
   "cell_type": "code",
   "execution_count": null,
   "id": "4937c3be",
   "metadata": {},
   "outputs": [],
   "source": [
    "\n",
    "# Load a GPX file\n",
    "with open(f'{main_dir}/261971610.gpx', 'r') as gpx_file:\n",
    "    gpx = gpxpy.parse(gpx_file)\n"
   ]
  },
  {
   "cell_type": "code",
   "execution_count": null,
   "id": "55ca7a38",
   "metadata": {},
   "outputs": [],
   "source": [
    "points = []\n",
    "\n",
    "for track in gpx.tracks:\n",
    "    for segment in track.segments:\n",
    "        for point in segment.points:\n",
    "            points.append({\n",
    "                'latitude': point.latitude,\n",
    "                'longitude': point.longitude,\n",
    "                'elevation': point.elevation,\n",
    "                'time': point.time\n",
    "            })\n",
    "\n",
    "df = pd.DataFrame(points)"
   ]
  },
  {
   "cell_type": "code",
   "execution_count": null,
   "id": "b845e5df",
   "metadata": {},
   "outputs": [],
   "source": [
    "df"
   ]
  },
  {
   "cell_type": "markdown",
   "id": "86e0d5f3",
   "metadata": {},
   "source": [
    "## Generate a Map"
   ]
  },
  {
   "cell_type": "code",
   "execution_count": null,
   "id": "bc383443",
   "metadata": {},
   "outputs": [],
   "source": [
    "\n",
    "# Get the central point of the route to center the map\n",
    "start_coords = (df['latitude'].mean(), df['longitude'].mean())\n",
    "\n",
    "# Create the map\n",
    "m = folium.Map(location=start_coords, zoom_start=13)\n",
    "\n",
    "# Draw the route as a line\n",
    "folium.PolyLine(\n",
    "    list(zip(df['latitude'], df['longitude'])),\n",
    "    color='blue',\n",
    "    weight=4,\n",
    "    opacity=0.8\n",
    ").add_to(m)\n",
    "\n",
    "# Optionally, mark start and end points\n",
    "folium.Marker(\n",
    "    location=[df.iloc[0]['latitude'], df.iloc[0]['longitude']],\n",
    "    popup='Start',\n",
    "    icon=folium.Icon(color='green')\n",
    ").add_to(m)\n",
    "\n",
    "folium.Marker(\n",
    "    location=[df.iloc[-1]['latitude'], df.iloc[-1]['longitude']],\n",
    "    popup='End',\n",
    "    icon=folium.Icon(color='red')\n",
    ").add_to(m)\n",
    "\n",
    "# Show the map in Jupyter or export to HTML\n",
    "m.save(\"route_map.html\")"
   ]
  },
  {
   "cell_type": "markdown",
   "id": "bc34a2aa",
   "metadata": {},
   "source": [
    "## Generate elevation map"
   ]
  },
  {
   "cell_type": "code",
   "execution_count": null,
   "id": "27fbe0c4",
   "metadata": {},
   "outputs": [],
   "source": [
    "\n",
    "# Optional: calculate distance for x-axis (if time/distance based is preferred)\n",
    "df['time'] = pd.to_datetime(df['time'])\n",
    "df['elapsed_time_min'] = (df['time'] - df['time'].min()).dt.total_seconds() / 60\n",
    "\n",
    "# Plot elevation over time\n",
    "plt.figure(figsize=(12, 5))\n",
    "plt.plot(df['elapsed_time_min'], df['elevation'], color='darkorange')\n",
    "plt.xlabel('Time Elapsed (minutes)')\n",
    "plt.ylabel('Elevation (m)')\n",
    "plt.title('Elevation Profile')\n",
    "plt.grid(True)\n",
    "plt.tight_layout()\n",
    "plt.show()\n"
   ]
  },
  {
   "cell_type": "code",
   "execution_count": null,
   "id": "d9347eed",
   "metadata": {},
   "outputs": [],
   "source": [
    "\n",
    "with gzip.open('activity.tcx.gz', 'rb') as f:\n",
    "    tree = etree.parse(f)\n",
    "    root = tree.getroot()\n",
    "\n",
    "    for elem in root.iter():\n",
    "        print(elem.tag, elem.text)\n"
   ]
  }
 ],
 "metadata": {
  "kernelspec": {
   "display_name": "strava_env",
   "language": "python",
   "name": "strava_env"
  },
  "language_info": {
   "codemirror_mode": {
    "name": "ipython",
    "version": 3
   },
   "file_extension": ".py",
   "mimetype": "text/x-python",
   "name": "python",
   "nbconvert_exporter": "python",
   "pygments_lexer": "ipython3",
   "version": "3.9.6"
  }
 },
 "nbformat": 4,
 "nbformat_minor": 5
}
