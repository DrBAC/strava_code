{
 "cells": [
  {
   "cell_type": "code",
   "execution_count": null,
   "id": "9008465e",
   "metadata": {},
   "outputs": [],
   "source": [
    "\n",
    "import pandas as pd\n",
    "\n",
    "import duckdb\n",
    "from strava_duck_funcs_copy import *\n",
    "\n",
    "# --- CONFIGURATION ---\n",
    "\n",
    "FIT_FILES_FOLDER = '/Users/bac/Documents/PYTHON_PROJECTS/Strava_Analysis/strava_data_dumps/STRAVA+export_8029714/activities/'\n",
    "\n",
    "#IMPORTANT_FIELDS = ['distance','enhanced_altitude','gps_accuracy','enhanced_speed','heart_rate', 'speed']\n",
    "\n",
    "# Connect to DuckDB\n",
    "\n",
    "DB_FILE = '../outputs/strava_test_2.duckdb'\n",
    "con = duckdb.connect(DB_FILE)\n"
   ]
  },
  {
   "cell_type": "code",
   "execution_count": null,
   "id": "9d9f0295",
   "metadata": {},
   "outputs": [],
   "source": [
    "def create_tables():\n",
    "    \"\"\"Create activities and fit_logs tables (DuckDB compatible).\"\"\"\n",
    "    con.execute(\"DROP TABLE IF EXISTS fit_logs\")\n",
    "\n",
    "    con.execute(\"\"\"\n",
    "        CREATE TABLE fit_logs (\n",
    "            activity_id BIGINT,\n",
    "            timestamp TIMESTAMP,\n",
    "            long DOUBLE,\n",
    "            lat DOUBLE,\n",
    "            distance DOUBLE,\n",
    "            enhanced_altitude DOUBLE,\n",
    "                speed DOUBLE,\n",
    "                gps_accuracy DOUBLE,\n",
    "                heart_rate DOUBLE\n",
    "\n",
    "                           )\n",
    "    \"\"\")\n",
    "\n",
    "    print(\"✅ Tables created fresh.\")"
   ]
  },
  {
   "cell_type": "code",
   "execution_count": null,
   "id": "f66fb857",
   "metadata": {},
   "outputs": [],
   "source": [
    "\n",
    "def bulk_insert_fit_logs(df_logs):\n",
    "    \"\"\"Bulk insert fit logs with auto-incremented log_ids.\"\"\"\n",
    "\n",
    "    if df_logs.empty:\n",
    "        print(\"⚠️ No logs to insert.\")\n",
    "        return\n",
    "\n",
    "    #next_id = get_next_id('fit_logs', 'log_id')\n",
    "    #df_logs.insert(0, 'log_id', range(next_id, next_id + len(df_logs)))\n",
    "\n",
    "    con.register('temp_fit_logs', df_logs)\n",
    "\n",
    "    con.execute(\"\"\"\n",
    "        INSERT INTO fit_logs (activity_id, timestamp, long, lat, distance, enhanced_altitude, speed, gps_accuracy, heart_rate)\n",
    "        SELECT activity_id, timestamp, long, lat, distance, enhanced_altitude, speed, gps_accuracy, heart_rate\n",
    "        FROM temp_fit_logs\n",
    "    \"\"\")\n",
    "\n",
    "    print(f\"✅ Inserted {len(df_logs)} logs starting at ID meh\")\n",
    "\n",
    "# def test_query():\n",
    "#     \"\"\"Query activities joined with fit_logs.\"\"\"\n",
    "#     df = con.execute(\"\"\"\n",
    "#         SELECT a.name, f.timestamp, f.field_name, f.field_value\n",
    "#         FROM activities a\n",
    "#         JOIN fit_logs f ON a.activity_id = f.activity_id\n",
    "#         ORDER BY a.activity_id, f.timestamp\n",
    "#         LIMIT 10\n",
    "#     \"\"\").fetchdf()\n",
    "#     print(\"\\n🎯 Sample joined data:\")\n",
    "#     print(df)"
   ]
  },
  {
   "cell_type": "markdown",
   "id": "741b7397",
   "metadata": {},
   "source": [
    "Question now is what ID fields are needed in the fit logs\n",
    "\n",
    "-- activity log is the key one, to join to some other setup, and otherwise, just some index...?\n"
   ]
  },
  {
   "cell_type": "code",
   "execution_count": null,
   "id": "df97591f",
   "metadata": {},
   "outputs": [],
   "source": [
    "fit_df = parse_fit_file(FIT_FILES_FOLDER)"
   ]
  },
  {
   "cell_type": "code",
   "execution_count": null,
   "id": "786edc3b",
   "metadata": {},
   "outputs": [],
   "source": [
    "fit_df.columns"
   ]
  },
  {
   "cell_type": "code",
   "execution_count": null,
   "id": "469f253e",
   "metadata": {},
   "outputs": [],
   "source": [
    "\n",
    "# --- MAIN FLOW ---\n",
    "\n",
    "if __name__ == \"__main__\":\n",
    "    create_tables()\n",
    "    bulk_insert_fit_logs(fit_df)\n",
    "    # test_query()\n",
    "    print(\"\\n🏁 All done!\")\n"
   ]
  },
  {
   "cell_type": "code",
   "execution_count": null,
   "id": "b8d21522",
   "metadata": {},
   "outputs": [],
   "source": [
    "def test_query():\n",
    "    \"\"\"Query activities joined with fit_logs.\"\"\"\n",
    "    df = con.execute(\"\"\"\n",
    "        SELECT distinct activity_type\n",
    "        FROM activities\n",
    "        JOIN fit_logs f ON a.activity_id = f.activity_id\n",
    "        ORDER BY a.activity_id, f.timestamp\n",
    "        LIMIT 10\n",
    "    \"\"\").fetchdf()\n",
    "    print(\"\\n🎯 Sample joined data:\")\n",
    "    print(df)"
   ]
  },
  {
   "cell_type": "code",
   "execution_count": null,
   "id": "bc8c1748",
   "metadata": {},
   "outputs": [],
   "source": []
  }
 ],
 "metadata": {
  "kernelspec": {
   "display_name": "strava_env",
   "language": "python",
   "name": "python3"
  },
  "language_info": {
   "codemirror_mode": {
    "name": "ipython",
    "version": 3
   },
   "file_extension": ".py",
   "mimetype": "text/x-python",
   "name": "python",
   "nbconvert_exporter": "python",
   "pygments_lexer": "ipython3",
   "version": "3.9.6"
  }
 },
 "nbformat": 4,
 "nbformat_minor": 5
}
