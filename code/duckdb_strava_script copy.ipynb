{
 "cells": [
  {
   "cell_type": "code",
   "execution_count": null,
   "id": "9008465e",
   "metadata": {},
   "outputs": [],
   "source": [
    "import pandas as pd\n",
    "import os\n",
    "import glob\n",
    "import duckdb\n",
    "from strava_duck_funcs_copy import *\n",
    "from fitparse import FitFile\n",
    "\n",
    "ACTIVITIES_FILE = '/Users/bac/Documents/PYTHON_PROJECTS/Strava_Analysis/strava_data_dumps/STRAVA+export_8029714/activities.csv'\n"
   ]
  },
  {
   "cell_type": "code",
   "execution_count": 2,
   "id": "469f253e",
   "metadata": {},
   "outputs": [
    {
     "name": "stdout",
     "output_type": "stream",
     "text": [
      "✅ Tables created fresh.\n",
      "⚠️ activity_id already exists in DataFrame, skipping ID generation.\n",
      "\n",
      "🏁 All done!\n"
     ]
    }
   ],
   "source": [
    "\n",
    "# --- MAIN FLOW ---\n",
    "\n",
    "if __name__ == \"__main__\":\n",
    "    create_tables()\n",
    "    bulk_insert_activities(ACTIVITIES_FILE)\n",
    "    #logs_df = build_all_fit_logs()\n",
    "    #bulk_insert_fit_logs(logs_df)\n",
    "    #test_query()\n",
    "    print(\"\\n🏁 All done!\")\n"
   ]
  },
  {
   "cell_type": "code",
   "execution_count": 3,
   "id": "a677b955",
   "metadata": {},
   "outputs": [],
   "source": [
    "DB_FILE = '../outputs/strava_test_1.duckdb'\n",
    "# Connect to DuckDB\n",
    "con = duckdb.connect(DB_FILE)"
   ]
  },
  {
   "cell_type": "code",
   "execution_count": 6,
   "id": "249a3e49",
   "metadata": {},
   "outputs": [],
   "source": [
    "def test_query():\n",
    "    \"\"\"Query activities joined with fit_logs.\"\"\"\n",
    "    df = con.execute(\"\"\"\n",
    "        SELECT distinct activity_type\n",
    "        FROM activities\n",
    "        -- JOIN fit_logs f ON a.activity_id = f.activity_id\n",
    "        -- ORDER BY a.activity_id, f.timestamp\n",
    "        LIMIT 10\n",
    "    \"\"\").fetchdf()\n",
    "    print(\"\\n🎯 Sample joined data:\")\n",
    "    print(df)"
   ]
  },
  {
   "cell_type": "code",
   "execution_count": 7,
   "id": "1b721954",
   "metadata": {},
   "outputs": [
    {
     "name": "stdout",
     "output_type": "stream",
     "text": [
      "\n",
      "🎯 Sample joined data:\n",
      "     ACTIVITY_TYPE\n",
      "0             Ride\n",
      "1             Walk\n",
      "2              Run\n",
      "3          Workout\n",
      "4  Weight Training\n",
      "5       Elliptical\n",
      "6             Swim\n"
     ]
    }
   ],
   "source": [
    "test_query()"
   ]
  },
  {
   "cell_type": "code",
   "execution_count": null,
   "id": "bf4ad8d5",
   "metadata": {},
   "outputs": [],
   "source": []
  },
  {
   "cell_type": "code",
   "execution_count": null,
   "id": "df017878",
   "metadata": {},
   "outputs": [],
   "source": []
  },
  {
   "cell_type": "code",
   "execution_count": null,
   "id": "1bdfb0a8",
   "metadata": {},
   "outputs": [],
   "source": []
  },
  {
   "cell_type": "code",
   "execution_count": null,
   "id": "e7570382",
   "metadata": {},
   "outputs": [],
   "source": [
    "\n"
   ]
  },
  {
   "cell_type": "markdown",
   "id": "d9b5a80f",
   "metadata": {},
   "source": [
    "# Basic DuckDB example -- Works"
   ]
  },
  {
   "cell_type": "code",
   "execution_count": null,
   "id": "3ba31806",
   "metadata": {},
   "outputs": [],
   "source": [
    "import duckdb\n",
    "\n",
    "# Connect to a DuckDB database file (it will create it if it doesn't exist)\n",
    "con = duckdb.connect('test_project.duckdb')\n",
    "\n",
    "# Drop tables if they exist (to start fresh)\n",
    "con.execute(\"DROP TABLE IF EXISTS activities\")\n",
    "con.execute(\"DROP TABLE IF EXISTS fit_logs\")\n",
    "\n",
    "# Create activities table (MINIMAL, NO constraints)\n",
    "con.execute(\"\"\"\n",
    "    CREATE TABLE activities (\n",
    "        activity_id BIGINT,\n",
    "        name TEXT,\n",
    "        date TIMESTAMP,\n",
    "        distance DOUBLE,\n",
    "        duration DOUBLE,\n",
    "        fit_filename TEXT\n",
    "    )\n",
    "\"\"\")\n",
    "\n",
    "# Create fit_logs table (also MINIMAL)\n",
    "con.execute(\"\"\"\n",
    "    CREATE TABLE fit_logs (\n",
    "        log_id BIGINT,\n",
    "        activity_id BIGINT,\n",
    "        timestamp TIMESTAMP,\n",
    "        field_name TEXT,\n",
    "        field_value DOUBLE\n",
    "    )\n",
    "\"\"\")\n",
    "\n",
    "print(\"✅ Tables created successfully.\")\n",
    "\n",
    "# Insert one fake record into activities\n",
    "con.execute(\"\"\"\n",
    "    INSERT INTO activities (activity_id, name, date, distance, duration, fit_filename)\n",
    "    VALUES (1, 'Morning Run', NOW(), 5.0, 30.0, 'run01.fit')\n",
    "\"\"\")\n",
    "\n",
    "# Insert one fake record into fit_logs\n",
    "con.execute(\"\"\"\n",
    "    INSERT INTO fit_logs (log_id, activity_id, timestamp, field_name, field_value)\n",
    "    VALUES (1, 1, NOW(), 'heart_rate', 145)\n",
    "\"\"\")\n",
    "\n",
    "print(\"✅ Inserted example data.\")\n",
    "\n",
    "# Query and print\n",
    "df = con.execute(\"\"\"\n",
    "    SELECT a.name, f.timestamp, f.field_name, f.field_value\n",
    "    FROM activities a\n",
    "    JOIN fit_logs f ON a.activity_id = f.activity_id\n",
    "\"\"\").fetchdf()\n",
    "\n",
    "print(\"\\n🎯 Query result:\")\n",
    "print(df)\n",
    "\n",
    "con.close()\n"
   ]
  },
  {
   "cell_type": "code",
   "execution_count": null,
   "id": "01fe2f0a",
   "metadata": {},
   "outputs": [],
   "source": [
    "df"
   ]
  }
 ],
 "metadata": {
  "kernelspec": {
   "display_name": "strava_env",
   "language": "python",
   "name": "python3"
  },
  "language_info": {
   "codemirror_mode": {
    "name": "ipython",
    "version": 3
   },
   "file_extension": ".py",
   "mimetype": "text/x-python",
   "name": "python",
   "nbconvert_exporter": "python",
   "pygments_lexer": "ipython3",
   "version": "3.9.6"
  }
 },
 "nbformat": 4,
 "nbformat_minor": 5
}
