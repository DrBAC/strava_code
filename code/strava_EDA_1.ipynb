{
 "cells": [
  {
   "cell_type": "markdown",
   "id": "9e35162a",
   "metadata": {},
   "source": [
    "# HEADER\n",
    "\n",
    "A quick and largely unnecessary script to clean up the main activities dataset from Strava."
   ]
  },
  {
   "cell_type": "code",
   "execution_count": 1,
   "id": "d58621cb",
   "metadata": {},
   "outputs": [],
   "source": [
    "import pandas as pd\n",
    "pd.set_option('display.max_columns', 100)"
   ]
  },
  {
   "cell_type": "code",
   "execution_count": 2,
   "id": "a9c7919f",
   "metadata": {},
   "outputs": [],
   "source": [
    "main_dir = 'STRAVA+export_8029714'"
   ]
  },
  {
   "cell_type": "code",
   "execution_count": 3,
   "id": "ba4d3e32",
   "metadata": {},
   "outputs": [],
   "source": [
    "df = pd.read_csv(f'{main_dir}/activities.csv')"
   ]
  },
  {
   "cell_type": "code",
   "execution_count": 4,
   "id": "a7ff2fb0",
   "metadata": {},
   "outputs": [],
   "source": [
    "\n",
    "df['Activity Date'] = pd.to_datetime(df['Activity Date'], format='%b %d, %Y, %I:%M:%S %p')\n",
    "\n",
    "df.columns = df.columns.str.upper().str.replace(' ', '_')\n",
    "df.dropna(thresh=1000, axis=1, inplace=True)"
   ]
  },
  {
   "cell_type": "code",
   "execution_count": 5,
   "id": "d0dca14f",
   "metadata": {},
   "outputs": [],
   "source": [
    "df.to_csv('Rides_Strava_Output.csv')"
   ]
  },
  {
   "cell_type": "code",
   "execution_count": null,
   "id": "e3511717",
   "metadata": {},
   "outputs": [],
   "source": [
    "activity = df.groupby('ACTIVITY_TYPE')"
   ]
  },
  {
   "cell_type": "code",
   "execution_count": null,
   "id": "04e944f4",
   "metadata": {},
   "outputs": [],
   "source": [
    "rides = activity.get_group('Ride')"
   ]
  },
  {
   "cell_type": "code",
   "execution_count": null,
   "id": "b4cfd330",
   "metadata": {},
   "outputs": [],
   "source": [
    "rides"
   ]
  }
 ],
 "metadata": {
  "kernelspec": {
   "display_name": "strava_env",
   "language": "python",
   "name": "strava_env"
  },
  "language_info": {
   "codemirror_mode": {
    "name": "ipython",
    "version": 3
   },
   "file_extension": ".py",
   "mimetype": "text/x-python",
   "name": "python",
   "nbconvert_exporter": "python",
   "pygments_lexer": "ipython3",
   "version": "3.9.6"
  }
 },
 "nbformat": 4,
 "nbformat_minor": 5
}
